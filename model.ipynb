{
 "cells": [
  {
   "cell_type": "code",
   "id": "initial_id",
   "metadata": {
    "collapsed": true,
    "ExecuteTime": {
     "end_time": "2024-10-16T08:34:31.313400Z",
     "start_time": "2024-10-16T08:34:24.134347Z"
    }
   },
   "source": [
    "import whisper\n",
    "import os\n",
    "import pandas as pd"
   ],
   "outputs": [],
   "execution_count": 2
  },
  {
   "metadata": {
    "ExecuteTime": {
     "end_time": "2024-10-16T08:34:36.932546Z",
     "start_time": "2024-10-16T08:34:36.922643Z"
    }
   },
   "cell_type": "code",
   "source": [
    "input_folder = os.path.expanduser(\"~/Desktop/wav_files\")\n",
    "data = pd.read_csv(input_folder + \"/audiofiles.csv\")"
   ],
   "id": "50690000625eaf25",
   "outputs": [],
   "execution_count": 3
  },
  {
   "metadata": {
    "ExecuteTime": {
     "end_time": "2024-10-16T08:34:38.327882Z",
     "start_time": "2024-10-16T08:34:38.319701Z"
    }
   },
   "cell_type": "code",
   "source": "data.head()",
   "id": "b45d2778d79ff0d0",
   "outputs": [
    {
     "data": {
      "text/plain": [
       "                     audiofile  \\\n",
       "0  audio_1_2024-10-15_8-35.wav   \n",
       "1  audio_2_2024-10-15_8-36.wav   \n",
       "2  audio_3_2024-10-15_8-37.wav   \n",
       "3  audio_4_2024-10-15_8-38.wav   \n",
       "4  audio_5_2024-10-15_8-39.wav   \n",
       "\n",
       "                                          transcript  \n",
       "0  11.09.2024. НГДУ-4. ЦДНГ-4.ГУ- 30. Скв 0876. С...  \n",
       "1  11.09.2024. НГДУ-4. ЦДНГ-4.ГУ- 30. Скв 2328. С...  \n",
       "2  11.09.2024. НГДУ-4. ЦДНГ-4.ГУ- 30. Скв 6663. С...  \n",
       "3  11.09.2024. НГДУ-4. ЦДНГ-4.ГУ- 30. Скв 6663. С...  \n",
       "4  09.09.2024. НГДУ-4. ЦДНГ-4.ГУ- 30. Скв 6663. С...  "
      ],
      "text/html": [
       "<div>\n",
       "<style scoped>\n",
       "    .dataframe tbody tr th:only-of-type {\n",
       "        vertical-align: middle;\n",
       "    }\n",
       "\n",
       "    .dataframe tbody tr th {\n",
       "        vertical-align: top;\n",
       "    }\n",
       "\n",
       "    .dataframe thead th {\n",
       "        text-align: right;\n",
       "    }\n",
       "</style>\n",
       "<table border=\"1\" class=\"dataframe\">\n",
       "  <thead>\n",
       "    <tr style=\"text-align: right;\">\n",
       "      <th></th>\n",
       "      <th>audiofile</th>\n",
       "      <th>transcript</th>\n",
       "    </tr>\n",
       "  </thead>\n",
       "  <tbody>\n",
       "    <tr>\n",
       "      <th>0</th>\n",
       "      <td>audio_1_2024-10-15_8-35.wav</td>\n",
       "      <td>11.09.2024. НГДУ-4. ЦДНГ-4.ГУ- 30. Скв 0876. С...</td>\n",
       "    </tr>\n",
       "    <tr>\n",
       "      <th>1</th>\n",
       "      <td>audio_2_2024-10-15_8-36.wav</td>\n",
       "      <td>11.09.2024. НГДУ-4. ЦДНГ-4.ГУ- 30. Скв 2328. С...</td>\n",
       "    </tr>\n",
       "    <tr>\n",
       "      <th>2</th>\n",
       "      <td>audio_3_2024-10-15_8-37.wav</td>\n",
       "      <td>11.09.2024. НГДУ-4. ЦДНГ-4.ГУ- 30. Скв 6663. С...</td>\n",
       "    </tr>\n",
       "    <tr>\n",
       "      <th>3</th>\n",
       "      <td>audio_4_2024-10-15_8-38.wav</td>\n",
       "      <td>11.09.2024. НГДУ-4. ЦДНГ-4.ГУ- 30. Скв 6663. С...</td>\n",
       "    </tr>\n",
       "    <tr>\n",
       "      <th>4</th>\n",
       "      <td>audio_5_2024-10-15_8-39.wav</td>\n",
       "      <td>09.09.2024. НГДУ-4. ЦДНГ-4.ГУ- 30. Скв 6663. С...</td>\n",
       "    </tr>\n",
       "  </tbody>\n",
       "</table>\n",
       "</div>"
      ]
     },
     "execution_count": 4,
     "metadata": {},
     "output_type": "execute_result"
    }
   ],
   "execution_count": 4
  },
  {
   "metadata": {
    "jupyter": {
     "is_executing": true
    },
    "ExecuteTime": {
     "start_time": "2024-10-16T08:34:52.444293Z"
    }
   },
   "cell_type": "code",
   "source": "model = whisper.load_model(\"turbo\")",
   "id": "1e3cea3ddf534c2",
   "outputs": [
    {
     "name": "stderr",
     "output_type": "stream",
     "text": [
      " 38%|██████████████▎                       | 581M/1.51G [01:48<02:18, 7.30MiB/s]"
     ]
    }
   ],
   "execution_count": null
  },
  {
   "metadata": {
    "ExecuteTime": {
     "end_time": "2024-10-16T08:33:33.228520Z",
     "start_time": "2024-10-16T08:33:32.901518Z"
    }
   },
   "cell_type": "code",
   "source": "",
   "id": "e2b370b8075766de",
   "outputs": [
    {
     "name": "stdout",
     "output_type": "stream",
     "text": [
      "\u001B[33mWARNING: Package(s) not found: openai-whisper\u001B[0m\r\n",
      "Note: you may need to restart the kernel to use updated packages.\n"
     ]
    }
   ],
   "execution_count": 15
  },
  {
   "metadata": {},
   "cell_type": "code",
   "outputs": [],
   "execution_count": null,
   "source": "",
   "id": "e55dd03e5408381d"
  }
 ],
 "metadata": {
  "kernelspec": {
   "display_name": "Python 3",
   "language": "python",
   "name": "python3"
  },
  "language_info": {
   "codemirror_mode": {
    "name": "ipython",
    "version": 2
   },
   "file_extension": ".py",
   "mimetype": "text/x-python",
   "name": "python",
   "nbconvert_exporter": "python",
   "pygments_lexer": "ipython2",
   "version": "2.7.6"
  }
 },
 "nbformat": 4,
 "nbformat_minor": 5
}
